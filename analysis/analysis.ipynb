{
 "cells": [
  {
   "cell_type": "markdown",
   "id": "f07ff468",
   "metadata": {},
   "source": [
    "# Free Recall"
   ]
  },
  {
   "cell_type": "code",
   "execution_count": 99,
   "id": "17a52065",
   "metadata": {},
   "outputs": [],
   "source": [
    "import math\n",
    "\n",
    "def wilson_ci(k, n, z=1.96):\n",
    "    if n == 0:\n",
    "        return (float('nan'), float('nan'))\n",
    "    p = k / n\n",
    "    denom = 1 + (z**2) / n\n",
    "    center = (p + (z**2) / (2 * n)) / denom\n",
    "    half_width = (z * math.sqrt((p * (1 - p) + (z**2) / (4 * n)) / n)) / denom\n",
    "    return (center - half_width, center + half_width)"
   ]
  },
  {
   "cell_type": "markdown",
   "id": "df66ff24",
   "metadata": {},
   "source": [
    "Read all files (trials) in the specified folder and for each of them calculate the number of correct guesses and the corresponding flags (1 in the position of samples correctly guessed in any position)."
   ]
  },
  {
   "cell_type": "code",
   "execution_count": 100,
   "id": "cf450a8e",
   "metadata": {},
   "outputs": [],
   "source": [
    "import pandas as pd\n",
    "from pathlib import Path\n",
    "\n",
    "base = Path('..') / 'data' / 'free'\n",
    "\n",
    "# process the root batch and each immediate subfolder\n",
    "modifiers = [base] + sorted([p for p in base.iterdir() if p.is_dir()])\n",
    "\n",
    "# collect results for every batch (no printing / plotting here)\n",
    "results = {}\n",
    "for mod in modifiers:\n",
    "    res = []\n",
    "    for trial in sorted(mod.glob('*.csv')):\n",
    "        df = pd.read_csv(trial)\n",
    "        guesses = set(df['guess'].dropna().astype(str))\n",
    "        samples = df['sample'].astype(str)\n",
    "        binaries = [1 if s in guesses else 0 for s in samples]\n",
    "        total_correct = sum(binaries)\n",
    "        res.append({'file': str(trial), 'counts': total_correct, 'binaries': binaries})\n",
    "\n",
    "    results[mod.name] = res"
   ]
  },
  {
   "cell_type": "markdown",
   "id": "976ca4c2",
   "metadata": {},
   "source": [
    "Computes per-trial and overall summary statistics (mean, population variance, overall proportion and Wilson 95% CI) of correct guesses and prints them."
   ]
  },
  {
   "cell_type": "code",
   "execution_count": 101,
   "id": "a0f94ef8",
   "metadata": {},
   "outputs": [
    {
     "data": {
      "application/vnd.microsoft.datawrangler.viewer.v0+json": {
       "columns": [
        {
         "name": "index",
         "rawType": "int64",
         "type": "integer"
        },
        {
         "name": "modifier",
         "rawType": "object",
         "type": "string"
        },
        {
         "name": "mean_counts",
         "rawType": "float64",
         "type": "float"
        },
        {
         "name": "proportion",
         "rawType": "float64",
         "type": "float"
        },
        {
         "name": "ci",
         "rawType": "object",
         "type": "unknown"
        },
        {
         "name": "prim_ci",
         "rawType": "object",
         "type": "unknown"
        },
        {
         "name": "rec_ci",
         "rawType": "object",
         "type": "unknown"
        },
        {
         "name": "mid_ci",
         "rawType": "object",
         "type": "unknown"
        }
       ],
       "ref": "b2afff3a-c151-426b-b800-bae51d266377",
       "rows": [
        [
         "0",
         "free",
         "5.9",
         "0.295",
         "(0.26443794022318257, 0.3275214706856333)",
         "(0.3245599028350716, 0.4977938135251822)",
         "(0.5783093452093498, 0.744683897772007)",
         "(0.16065687253278665, 0.22569560660319754)"
        ],
        [
         "1",
         "delay",
         "4.975",
         "0.24875",
         "(0.22004221844340033, 0.27985925468264844)",
         "(0.18837283808050675, 0.343286959596526)",
         "(0.5105585981828253, 0.6832373476059888)",
         "(0.14247791039391183, 0.20485651828251072)"
        ],
        [
         "2",
         "rate",
         "6.45",
         "0.3225",
         "(0.2910231774471024, 0.35567338565687234)",
         "(0.30124387764148153, 0.47266085227156884)",
         "(0.6924293655773726, 0.8405094853418662)",
         "(0.180635838150289, 0.2482817869415807)"
        ],
        [
         "3",
         "task",
         "3.075",
         "0.15375",
         "(0.1304138482392468, 0.18039564457625318)",
         "(0.1738573324150334, 0.32550314096386357)",
         "(0.13124933052612614, 0.2712131699583638)",
         "(0.10174647092037326, 0.15691057034795453)"
        ]
       ],
       "shape": {
        "columns": 7,
        "rows": 4
       }
      },
      "text/html": [
       "<div>\n",
       "<style scoped>\n",
       "    .dataframe tbody tr th:only-of-type {\n",
       "        vertical-align: middle;\n",
       "    }\n",
       "\n",
       "    .dataframe tbody tr th {\n",
       "        vertical-align: top;\n",
       "    }\n",
       "\n",
       "    .dataframe thead th {\n",
       "        text-align: right;\n",
       "    }\n",
       "</style>\n",
       "<table border=\"1\" class=\"dataframe\">\n",
       "  <thead>\n",
       "    <tr style=\"text-align: right;\">\n",
       "      <th></th>\n",
       "      <th>modifier</th>\n",
       "      <th>mean_counts</th>\n",
       "      <th>proportion</th>\n",
       "      <th>ci</th>\n",
       "      <th>prim_ci</th>\n",
       "      <th>rec_ci</th>\n",
       "      <th>mid_ci</th>\n",
       "    </tr>\n",
       "  </thead>\n",
       "  <tbody>\n",
       "    <tr>\n",
       "      <th>0</th>\n",
       "      <td>free</td>\n",
       "      <td>5.900</td>\n",
       "      <td>0.29500</td>\n",
       "      <td>(0.26443794022318257, 0.3275214706856333)</td>\n",
       "      <td>(0.3245599028350716, 0.4977938135251822)</td>\n",
       "      <td>(0.5783093452093498, 0.744683897772007)</td>\n",
       "      <td>(0.16065687253278665, 0.22569560660319754)</td>\n",
       "    </tr>\n",
       "    <tr>\n",
       "      <th>1</th>\n",
       "      <td>delay</td>\n",
       "      <td>4.975</td>\n",
       "      <td>0.24875</td>\n",
       "      <td>(0.22004221844340033, 0.27985925468264844)</td>\n",
       "      <td>(0.18837283808050675, 0.343286959596526)</td>\n",
       "      <td>(0.5105585981828253, 0.6832373476059888)</td>\n",
       "      <td>(0.14247791039391183, 0.20485651828251072)</td>\n",
       "    </tr>\n",
       "    <tr>\n",
       "      <th>2</th>\n",
       "      <td>rate</td>\n",
       "      <td>6.450</td>\n",
       "      <td>0.32250</td>\n",
       "      <td>(0.2910231774471024, 0.35567338565687234)</td>\n",
       "      <td>(0.30124387764148153, 0.47266085227156884)</td>\n",
       "      <td>(0.6924293655773726, 0.8405094853418662)</td>\n",
       "      <td>(0.180635838150289, 0.2482817869415807)</td>\n",
       "    </tr>\n",
       "    <tr>\n",
       "      <th>3</th>\n",
       "      <td>task</td>\n",
       "      <td>3.075</td>\n",
       "      <td>0.15375</td>\n",
       "      <td>(0.1304138482392468, 0.18039564457625318)</td>\n",
       "      <td>(0.1738573324150334, 0.32550314096386357)</td>\n",
       "      <td>(0.13124933052612614, 0.2712131699583638)</td>\n",
       "      <td>(0.10174647092037326, 0.15691057034795453)</td>\n",
       "    </tr>\n",
       "  </tbody>\n",
       "</table>\n",
       "</div>"
      ],
      "text/plain": [
       "  modifier  mean_counts  proportion  \\\n",
       "0     free        5.900     0.29500   \n",
       "1    delay        4.975     0.24875   \n",
       "2     rate        6.450     0.32250   \n",
       "3     task        3.075     0.15375   \n",
       "\n",
       "                                           ci  \\\n",
       "0   (0.26443794022318257, 0.3275214706856333)   \n",
       "1  (0.22004221844340033, 0.27985925468264844)   \n",
       "2   (0.2910231774471024, 0.35567338565687234)   \n",
       "3   (0.1304138482392468, 0.18039564457625318)   \n",
       "\n",
       "                                      prim_ci  \\\n",
       "0    (0.3245599028350716, 0.4977938135251822)   \n",
       "1    (0.18837283808050675, 0.343286959596526)   \n",
       "2  (0.30124387764148153, 0.47266085227156884)   \n",
       "3   (0.1738573324150334, 0.32550314096386357)   \n",
       "\n",
       "                                      rec_ci  \\\n",
       "0    (0.5783093452093498, 0.744683897772007)   \n",
       "1   (0.5105585981828253, 0.6832373476059888)   \n",
       "2   (0.6924293655773726, 0.8405094853418662)   \n",
       "3  (0.13124933052612614, 0.2712131699583638)   \n",
       "\n",
       "                                       mid_ci  \n",
       "0  (0.16065687253278665, 0.22569560660319754)  \n",
       "1  (0.14247791039391183, 0.20485651828251072)  \n",
       "2     (0.180635838150289, 0.2482817869415807)  \n",
       "3  (0.10174647092037326, 0.15691057034795453)  "
      ]
     },
     "execution_count": 101,
     "metadata": {},
     "output_type": "execute_result"
    }
   ],
   "source": [
    "import pandas as pd\n",
    "\n",
    "# Build a summary table with one row per modifier\n",
    "summary_rows = []\n",
    "for mod, res in results.items():\n",
    "    counts = [r['counts'] for r in res]\n",
    "    mean_counts = sum(counts) / len(counts) if len(counts) > 0 else float('nan')\n",
    "\n",
    "    total_successes = sum(r['counts'] for r in res)\n",
    "    total_positions = sum(len(r['binaries']) for r in res)\n",
    "    proportion = total_successes / total_positions if total_positions > 0 else float('nan')\n",
    "    ci = wilson_ci(total_successes, total_positions)\n",
    "\n",
    "    # primacy (first 3), recency (last 3), middle (positions 4..17)\n",
    "    ps = sum(sum(int(b) for b in r['binaries'][:3]) for r in res)\n",
    "    pn = sum(min(3, len(r['binaries'])) for r in res)\n",
    "    rs = sum(sum(int(b) for b in r['binaries'][-3:]) for r in res)\n",
    "    rn = pn\n",
    "    ms = sum(sum(int(b) for b in r['binaries'][3:17]) for r in res)\n",
    "    mn = sum(max(0, min(17, len(r['binaries'])) - 3) for r in res)\n",
    "\n",
    "    prim_ci = wilson_ci(ps, pn)\n",
    "    rec_ci = wilson_ci(rs, rn)\n",
    "    mid_ci = wilson_ci(ms, mn)\n",
    "\n",
    "    summary_rows.append({\n",
    "        'modifier': mod,\n",
    "        'mean_counts': mean_counts,\n",
    "        'proportion': proportion,\n",
    "        'ci': ci,\n",
    "        'prim_ci': prim_ci,\n",
    "        'rec_ci': rec_ci,\n",
    "        'mid_ci': mid_ci,\n",
    "    })\n",
    "\n",
    "summary_df = pd.DataFrame(summary_rows)\n",
    "summary_df = summary_df[[ 'modifier', 'mean_counts', 'proportion', 'ci', 'prim_ci', 'rec_ci', 'mid_ci']]\n",
    "summary_df"
   ]
  },
  {
   "cell_type": "markdown",
   "id": "36c4513b",
   "metadata": {},
   "source": [
    "CI evaluation"
   ]
  },
  {
   "cell_type": "code",
   "execution_count": 102,
   "id": "a2953c30",
   "metadata": {},
   "outputs": [
    {
     "name": "stdout",
     "output_type": "stream",
     "text": [
      "CI not overlapping: free vs task\n",
      "CI not overlapping: delay vs rate\n",
      "CI not overlapping: delay vs task\n",
      "CI not overlapping: rate vs task\n",
      "\n",
      "free: no overlap between primacy vs recency, primacy vs middle, recency vs middle\n",
      "delay: no overlap between primacy vs recency, recency vs middle\n",
      "rate: no overlap between primacy vs recency, primacy vs middle, recency vs middle\n",
      "task: no overlap between primacy vs middle\n"
     ]
    }
   ],
   "source": [
    "# Print all pairs of modifiers whose confidence intervals do not overlap (overall proportion)\n",
    "for i in range(len(summary_df)):\n",
    "    for j in range(i + 1, len(summary_df)):\n",
    "        ci_i_low, ci_i_high = summary_df.iloc[i]['ci']\n",
    "        ci_j_low, ci_j_high = summary_df.iloc[j]['ci']\n",
    "        # Check if intervals do not overlap\n",
    "        if ci_i_high < ci_j_low or ci_j_high < ci_i_low:\n",
    "            print(f\"CI not overlapping: {summary_df.iloc[i]['modifier']} vs {summary_df.iloc[j]['modifier']}\")\n",
    "\n",
    "print()\n",
    "\n",
    "# Print primacy vs recency vs middle confidence interval overlaps\n",
    "for _, row in summary_df.iterrows():\n",
    "    prim_low, prim_high = row['prim_ci']\n",
    "    rec_low, rec_high = row['rec_ci']\n",
    "    mid_low, mid_high = row['mid_ci']\n",
    "    outs = []\n",
    "    if prim_high < rec_low or rec_high < prim_low:\n",
    "        outs.append(\"primacy vs recency\")\n",
    "    if prim_high < mid_low or mid_high < prim_low:\n",
    "        outs.append(\"primacy vs middle\")\n",
    "    if rec_high < mid_low or mid_high < rec_low:\n",
    "        outs.append(\"recency vs middle\")\n",
    "    if outs:\n",
    "        print(f\"{row['modifier']}: no overlap between \" + \", \".join(outs))"
   ]
  },
  {
   "cell_type": "markdown",
   "id": "bf097cd7",
   "metadata": {},
   "source": [
    "Plot the frequency of each correct guess based on the position"
   ]
  },
  {
   "cell_type": "code",
   "execution_count": 103,
   "id": "5ff1f751",
   "metadata": {},
   "outputs": [
    {
     "data": {
      "image/png": "[encoded data removed]",
      "text/plain": [
       "<Figure size 1200x800 with 4 Axes>"
      ]
     },
     "metadata": {},
     "output_type": "display_data"
    }
   ],
   "source": [
    "from matplotlib.ticker import MaxNLocator\n",
    "\n",
    "import matplotlib.pyplot as plt\n",
    "import matplotlib.pyplot as plt\n",
    "\n",
    "# Plot serial-position bar charts for each modifier in a 2x2 subplot grid\n",
    "fig, axs = plt.subplots(2, 2, figsize=(12, 8), sharex=True, sharey=True)\n",
    "axs = axs.flatten()\n",
    "\n",
    "positions = list(range(1, 21))\n",
    "\n",
    "for ax, (mod, res) in zip(axs, results.items()):\n",
    "    # position counts (1..20)\n",
    "    pos_counts = [0] * 20\n",
    "    for r in res:\n",
    "        bins = r['binaries']\n",
    "        for i in range(min(20, len(bins))):\n",
    "            pos_counts[i] += int(bins[i])\n",
    "\n",
    "    ax.bar(positions, pos_counts)\n",
    "    ax.set_xlabel('Serial position')\n",
    "    ax.set_ylabel('Number of correct recalls')\n",
    "    ax.set_xticks(positions)\n",
    "    ax.set_title(f'Correct recalls by position ({mod})')\n",
    "    ax.grid(axis='y', alpha=0.3)\n",
    "\n",
    "    # ensure y-axis uses integer ticks and starts at 0\n",
    "    ax.yaxis.set_major_locator(MaxNLocator(integer=True))\n",
    "    ax.set_ylim(bottom=0)\n",
    "\n",
    "# If there are any unused axes (fewer than 4 modifiers), hide them\n",
    "for ax in axs[len(results):]:\n",
    "    ax.axis('off')\n",
    "\n",
    "plt.tight_layout()\n",
    "plt.show()"
   ]
  }
 ],
 "metadata": {
  "kernelspec": {
   "display_name": "dtu02450",
   "language": "python",
   "name": "python3"
  },
  "language_info": {
   "codemirror_mode": {
    "name": "ipython",
    "version": 3
   },
   "file_extension": ".py",
   "mimetype": "text/x-python",
   "name": "python",
   "nbconvert_exporter": "python",
   "pygments_lexer": "ipython3",
   "version": "3.11.11"
  }
 },
 "nbformat": 4,
 "nbformat_minor": 5
}
